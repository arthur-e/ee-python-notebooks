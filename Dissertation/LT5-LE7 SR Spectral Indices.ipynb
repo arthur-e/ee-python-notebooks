{
 "cells": [
  {
   "cell_type": "markdown",
   "metadata": {},
   "source": [
    "# LT5-LE7 SR Spectral Indices"
   ]
  },
  {
   "cell_type": "markdown",
   "metadata": {},
   "source": [
    "Having compared Landsat 5 (LT5) and Landsat 7 (LE7) NDVI values in sidelap areas (after Ju & Masek 2016), I found that they two platforms agree almost perfectly (linear regression through the origin yields a slope of 0.999). So, here, I use all available LT5 and LE7 images of adequate quality to build a median-value reflectance composite prior to transforming to NDVI.\n",
    "\n",
    "> Ju, J., and J. G. Masek. 2016. The vegetation greenness trend in Canada and US Alaska from 1984-2012 Landsat data. Remote Sensing of Environment 176:1–16."
   ]
  },
  {
   "cell_type": "code",
   "execution_count": 1,
   "metadata": {},
   "outputs": [],
   "source": [
    "import ee\n",
    "from IPython.display import Image\n",
    "# Example iamge display:\n",
    "# image = ee.Image('srtm90_v4')\n",
    "# Image(url=image.getThumbUrl({'min':0, 'max': 3000}))\n",
    "\n",
    "ee.Initialize()\n",
    "\n",
    "# Detroit MSA bounds\n",
    "detroit_msa = ee.FeatureCollection('ft:1QZFRMLeORVfc9sYNOOKD2WyOlEyI8gmj-g3CdTlH', 'geometry')\n",
    "\n",
    "# Water mask\n",
    "water = ee.Image(1).where(ee.Image('JRC/GSW1_0/GlobalSurfaceWater').select('max_extent'), ee.Image(0))\n",
    "\n",
    "# No other way, apparently, to get a range as a list; can't map type coercion client-side...\n",
    "combined_dates = ee.List([\n",
    "    '1995', '1996', '1997', '1998', '1999', '2000', '2001', '2002', '2003', '2004', '2005', '2006',\n",
    "    '2007', '2008', '2009', '2010', '2011', '2012', '2013', '2014', '2015'\n",
    "])\n",
    "\n",
    "# Look at 2013, 2013, and 2015 CDL and choose 1 where pixel is always non-cultivated, zero otherwise\n",
    "# Cultivated = 2 in the \"cultivated\" band\n",
    "cdl = ee.ImageCollection('USDA/NASS/CDL')\\\n",
    "    .filterBounds(detroit_msa)\\\n",
    "    .filter(ee.Filter([\n",
    "        ee.Filter.inList('system:index', ee.List(['2013', '2014', '2015']))\n",
    "    ]))\\\n",
    "    .map(lambda img: img.select('cultivated').lt(2))\\\n",
    "    .reduce(ee.Reducer.allNonZero())\\\n",
    "    .clip(ee.Feature(detroit_msa.union().toList(1).get(0)).bounds().geometry())"
   ]
  },
  {
   "cell_type": "markdown",
   "metadata": {},
   "source": [
    "## Functions"
   ]
  },
  {
   "cell_type": "code",
   "execution_count": 2,
   "metadata": {},
   "outputs": [],
   "source": [
    "def annual_composite_median(collection, year):\n",
    "    '''\n",
    "    Creates an annual composite, given the total collection of images\n",
    "    and the year in which a subset of them should be composited.\n",
    "    '''\n",
    "    return ee.ImageCollection(collection.filterMetadata('year', 'equals', year))\\\n",
    "        .median()\\\n",
    "        .set({'year': year})\n",
    "\n",
    "\n",
    "def annual_composite_maximum(collection, year):\n",
    "    '''\n",
    "    Creates an annual composite, given the total collection of images\n",
    "    and the year in which a subset of them should be composited.\n",
    "    NOTE: For creating a maximum NDVI composite.\n",
    "    '''\n",
    "    return ee.ImageCollection(collection.filterMetadata('year', 'equals', year))\\\n",
    "        .max()\\\n",
    "        .set({'year': year})\n",
    "\n",
    "    \n",
    "def cloud_mask(img):\n",
    "    '''\n",
    "    Applies a cloud mask to an image based on the QA band of the\n",
    "    Landsat data.\n",
    "    '''\n",
    "    # Bits 3 and 5 are cloud shadow and cloud, respectively\n",
    "    cloud_shadow_bit_mask = ee.Number(2).pow(3).int()\n",
    "    clouds_bit_mask = ee.Number(2).pow(5).int()\n",
    "    water_mask = ee.Number(2).pow(2).int() # Bit 2 is water\n",
    "\n",
    "    # Get the pixel QA band\n",
    "    qa = img.select('pixel_qa')\n",
    "\n",
    "    # Both flags should be set to zero, indicating clear conditions\n",
    "    mask = qa.bitwiseAnd(cloud_shadow_bit_mask).eq(0)\\\n",
    "        .And(qa.bitwiseAnd(clouds_bit_mask).eq(0))\\\n",
    "        .And(qa.bitwiseAnd(water_mask).eq(0))\\\n",
    "        .reduceNeighborhood(ee.Reducer.anyNonZero(), ee.Kernel.square(1))\n",
    "    # NOTE: Also mask those pixels that are adjacent to cloud, cloud shadow, or water\n",
    "\n",
    "    # Return the masked image, scaled to [0, 1]\n",
    "    return img.updateMask(mask).divide(10000)\\\n",
    "        .select(\n",
    "            ['B1', 'B2', 'B3', 'B4', 'B5', 'B7', 'pixel_qa'],\n",
    "            ['blue', 'green', 'red', 'NIR', 'SWIR1', 'SWIR2', 'pixel_qa'])\\\n",
    "        .set({\n",
    "            'date': img.get('SENSING_TIME'),\n",
    "            'year': ee.String(img.get('SENSING_TIME')).slice(0, 4)\n",
    "        })\n",
    "\n",
    "\n",
    "def ndvi(img):\n",
    "    '''\n",
    "    Calculates the normalized difference vegetation index (NDVI).\n",
    "    '''\n",
    "    return img.normalizedDifference(['NIR', 'red'])\\\n",
    "        .set({'year': img.get('year'), 'variable': 'NDVI'})"
   ]
  },
  {
   "cell_type": "markdown",
   "metadata": {},
   "source": [
    "## Assets"
   ]
  },
  {
   "cell_type": "code",
   "execution_count": 3,
   "metadata": {},
   "outputs": [],
   "source": [
    "lt5_collection = ee.ImageCollection('LANDSAT/LT05/C01/T1_SR')\\\n",
    "    .filterDate('1995-01-01', '2015-12-31')\\\n",
    "    .filter(ee.Filter.dayOfYear(121, 273))\\\n",
    "    .filterMetadata('CLOUD_COVER_LAND', 'less_than', 80)\\\n",
    "    .filterBounds(detroit_msa)\\\n",
    "    .map(cloud_mask)\\\n",
    "    .map(lambda img: img.select('blue', 'green', 'red', 'NIR', 'SWIR1', 'SWIR2'))\n",
    "\n",
    "le7_collection = ee.ImageCollection('LANDSAT/LE07/C01/T1_SR')\\\n",
    "    .filterDate('1995-01-01', '2015-12-31')\\\n",
    "    .filter(ee.Filter.dayOfYear(121, 273))\\\n",
    "    .filterMetadata('CLOUD_COVER_LAND', 'less_than', 80)\\\n",
    "    .filterBounds(detroit_msa)\\\n",
    "    .map(cloud_mask)\\\n",
    "    .map(lambda img: img.select('blue', 'green', 'red', 'NIR', 'SWIR1', 'SWIR2'))\n",
    "\n",
    "lt5_le7_collection = ee.ImageCollection(lt5_collection).merge(le7_collection)\n",
    "lt5_le7_ndvi = ee.ImageCollection(lt5_le7_collection).map(ndvi)"
   ]
  },
  {
   "cell_type": "markdown",
   "metadata": {},
   "source": [
    "## Workspace"
   ]
  },
  {
   "cell_type": "code",
   "execution_count": null,
   "metadata": {},
   "outputs": [],
   "source": [
    "# Compute the max vegetation abundance in each band, in each pixel\n",
    "composites = ee.ImageCollection(combined_dates\n",
    "    .map(lambda year: annual_composite_median(lt5_le7_collection, year)))\\\n",
    "    .map(lambda img: img.clip(detroit_msa))\\\n",
    "    .map(ndvi)\n",
    "\n",
    "composites_ndvi_first = ee.ImageCollection(combined_dates\n",
    "    .map(lambda year: annual_composite_maximum(lt5_le7_collection, year)))\\\n",
    "    .map(lambda img: img.clip(detroit_msa))\n",
    "\n",
    "for i in xrange(0, ee.ImageCollection(composites_ndvi_first).size().getInfo()):\n",
    "    img = ee.Image(ee.ImageCollection(composites_ndvi_first).toList(1, i).get(0))\n",
    "    \n",
    "    # Mask out permanent water, recent cultivated areas\n",
    "    img_masked = img.updateMask(water).updateMask(cdl)\n",
    "    \n",
    "    year = list(range(1995, 2016))[i]\n",
    "    task = ee.batch.Export.image.toDrive(image = img_masked, \n",
    "        description = 'LT5-LE7_SR_Maximum_NDVI_%d' % year, \n",
    "        region = detroit_msa.geometry().bounds().getInfo()['coordinates'],\n",
    "        folder = 'EarthEngine', scale = 30, crs = 'EPSG:32617')\n",
    "    task.start()"
   ]
  }
 ],
 "metadata": {
  "kernelspec": {
   "display_name": "Python 2",
   "language": "python",
   "name": "python2"
  },
  "language_info": {
   "codemirror_mode": {
    "name": "ipython",
    "version": 2
   },
   "file_extension": ".py",
   "mimetype": "text/x-python",
   "name": "python",
   "nbconvert_exporter": "python",
   "pygments_lexer": "ipython2",
   "version": "2.7.12"
  }
 },
 "nbformat": 4,
 "nbformat_minor": 2
}
