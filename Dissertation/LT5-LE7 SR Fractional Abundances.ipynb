{
 "cells": [
  {
   "cell_type": "markdown",
   "metadata": {},
   "source": [
    "# LT5-LE7 SR Fractional Abundances with Global Endmembers"
   ]
  },
  {
   "cell_type": "code",
   "execution_count": 6,
   "metadata": {},
   "outputs": [],
   "source": [
    "import ee\n",
    "from IPython.display import Image\n",
    "# Example iamge display:\n",
    "# image = ee.Image('srtm90_v4')\n",
    "# Image(url=image.getThumbUrl({'min':0, 'max': 3000}))\n",
    "\n",
    "ee.Initialize()\n",
    "\n",
    "# Detroit MSA bounds\n",
    "detroit_msa = ee.FeatureCollection('ft:1QZFRMLeORVfc9sYNOOKD2WyOlEyI8gmj-g3CdTlH', 'geometry')\n",
    "\n",
    "# Water mask\n",
    "water = ee.Image(1).where(ee.Image('JRC/GSW1_0/GlobalSurfaceWater').select('max_extent'), ee.Image(0))\n",
    "\n",
    "lt5_dates = ee.List([\n",
    "    '1995', '1996', '1997', '1998', '1999', '2000', '2001', '2002', '2003', \n",
    "    '2004', '2005', '2006', '2007', '2008', '2009', '2010', '2011'\n",
    "])\n",
    "\n",
    "lt7_dates = ee.List([\n",
    "    '2001', '2002', '2003', '2004', '2005', '2006', '2007', '2008', '2009', \n",
    "    '2010', '2011', '2012', '2013', '2014', '2015'\n",
    "])\n",
    "\n",
    "# Look at 2013, 2013, and 2015 CDL and choose 1 where pixel is always non-cultivated, zero otherwise\n",
    "# Cultivated = 2 in the \"cultivated\" band\n",
    "cdl = ee.ImageCollection('USDA/NASS/CDL')\\\n",
    "    .filterBounds(detroit_msa)\\\n",
    "    .filter(ee.Filter([\n",
    "        ee.Filter.inList('system:index', ee.List(['2013', '2014', '2015']))\n",
    "    ]))\\\n",
    "    .map(lambda img: img.select('cultivated').lt(2))\\\n",
    "    .reduce(ee.Reducer.allNonZero())\\\n",
    "    .clip(ee.Feature(detroit_msa.union().toList(1).get(0)).bounds().geometry())"
   ]
  },
  {
   "cell_type": "markdown",
   "metadata": {},
   "source": [
    "## Functions"
   ]
  },
  {
   "cell_type": "code",
   "execution_count": 7,
   "metadata": {},
   "outputs": [],
   "source": [
    "def annual_composite(collection, year):\n",
    "    '''\n",
    "    Creates an annual composite, given the total collection of images\n",
    "    and the year in which a subset of them should be composited.\n",
    "    '''\n",
    "    return collection.filterDate(\n",
    "        ee.String(year).cat(ee.String('-01-01')), \n",
    "        ee.String(year).cat(ee.String('-12-31')))\\\n",
    "        .map(cloudMask)\\\n",
    "        .median()\\\n",
    "        .rename(['blue', 'green', 'red', 'NIR', 'SWIR1', 'SWIR2', 'pixel_qa'])\\\n",
    "        .select('blue', 'green', 'red', 'NIR', 'SWIR1', 'SWIR2')\\\n",
    "        .set({'year': year})\n",
    "\n",
    "    \n",
    "def cloud_mask(img):\n",
    "    '''\n",
    "    Applies a cloud mask to an image based on the QA band of the\n",
    "    Landsat data.\n",
    "    '''\n",
    "    # Bits 3 and 5 are cloud shadow and cloud, respectively\n",
    "    cloudShadowBitMask = ee.Number(2).pow(3).int()\n",
    "    cloudsBitMask = ee.Number(2).pow(5).int()\n",
    "    waterMask = ee.Number(2).pow(2).int() # Bit 2 is water\n",
    "\n",
    "    # Get the pixel QA band\n",
    "    qa = img.select('pixel_qa')\n",
    "\n",
    "    # Both flags should be set to zero, indicating clear conditions\n",
    "    mask = qa.bitwiseAnd(cloudShadowBitMask).eq(0)\\\n",
    "        .And(qa.bitwiseAnd(cloudsBitMask).eq(0))\\\n",
    "        .And(qa.bitwiseAnd(waterMask).eq(0))\\\n",
    "        .reduceNeighborhood(ee.Reducer.anyNonZero(), ee.Kernel.square(1))\n",
    "    # NOTE: Also mask those pixels that are adjacent to cloud, cloud shadow, or water\n",
    "\n",
    "    # Return the masked image, scaled to [0, 1]\n",
    "    return img.updateMask(mask).divide(10000)\\\n",
    "        .select(\n",
    "            ['B1', 'B2', 'B3', 'B4', 'B5', 'B7', 'pixel_qa'],\n",
    "            ['blue', 'green', 'red', 'NIR', 'SWIR1', 'SWIR2', 'pixel_qa'])\n",
    "\n",
    "\n",
    "def lsma(img, ems, emv, emd):\n",
    "    '''\n",
    "    Constrain to be positive, sum-to-one, because these add information, \n",
    "    thereby increasing accuracy.\n",
    "    '''\n",
    "    return img.select('blue', 'green', 'red', 'NIR', 'SWIR1', 'SWIR2')\\\n",
    "        .unmix([ems, emv, emd], true, true).rename(['S', 'V', 'D'])\\\n",
    "        .set({'year': img.get('year')})\n",
    "\n",
    "\n",
    "def svd_unmixing_etm_plus(img):\n",
    "    '''\n",
    "    Spectral mixture analysis using Sousa & Small's revised global\n",
    "    endmembers; tables are in Supplemental Data as text files. Reference:\n",
    "        Sousa, D., and C. Small. 2017. \n",
    "        Global cross-calibration of Landsat spectral mixture models. \n",
    "        Remote Sensing of Environment 192:139–149.\n",
    "        \n",
    "    These endmembers are for ETM+ surface reflectance data; should work \n",
    "    for TM surface reflectance data as well.\n",
    "    '''\n",
    "    ems = [0.218413, 0.344440, 0.535987, 0.669174, 0.754645, 0.671738]\n",
    "    emv = [0.100880, 0.098638, 0.067241, 0.585458, 0.208614, 0.088058]\n",
    "    emd = [0.083704, 0.047546, 0.023937, 0.010864, 0.003250, 0.002208]\n",
    "    return lsma(img, ems, emv, emd)"
   ]
  },
  {
   "cell_type": "markdown",
   "metadata": {},
   "source": [
    "## Assets"
   ]
  },
  {
   "cell_type": "code",
   "execution_count": null,
   "metadata": {},
   "outputs": [],
   "source": [
    "lt5_collection = ee.ImageCollection('LANDSAT/LT05/C01/T1_SR')\n",
    "    .filterDate('1995-01-01', '2015-12-31')\n",
    "    .filter(ee.Filter.dayOfYear(121, 273))\n",
    "    .filterBounds(detroitMSA);\n",
    "\n",
    "// Compute the median in each band, in each pixel.\n",
    "var lt5_composites = ee.ImageCollection(lt5_dates.map(function (year) {\n",
    "  return annualComposite(lt5_collection, year);\n",
    "}));"
   ]
  }
 ],
 "metadata": {
  "kernelspec": {
   "display_name": "Python 2",
   "language": "python",
   "name": "python2"
  },
  "language_info": {
   "codemirror_mode": {
    "name": "ipython",
    "version": 2
   },
   "file_extension": ".py",
   "mimetype": "text/x-python",
   "name": "python",
   "nbconvert_exporter": "python",
   "pygments_lexer": "ipython2",
   "version": "2.7.12"
  }
 },
 "nbformat": 4,
 "nbformat_minor": 2
}
